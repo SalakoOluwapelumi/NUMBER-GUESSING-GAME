{
 "cells": [
  {
   "cell_type": "code",
   "execution_count": null,
   "id": "dfae3d22",
   "metadata": {},
   "outputs": [],
   "source": [
    "import random\n",
    "\n",
    "rounds = 0\n",
    "score = 0\n",
    "\n",
    "while rounds < 5:\n",
    "    guessnum = random.randint(1,100)\n",
    "    attempt = 5\n",
    "    while attempt > 0:\n",
    "        userguess = int(input('Guess the number' + ' : '))\n",
    "        attempt -= 1\n",
    "        if userguess == guessnum:\n",
    "            print('Correct, You have earned 10 points')\n",
    "            score += 10\n",
    "            break\n",
    "            \n",
    "        elif userguess < guessnum:\n",
    "            print('Incorrect, too low, You have ' + str(attempt) + ' attempt remaining ')\n",
    "        \n",
    "        elif userguess > guessnum:\n",
    "            print('Incorrect, too high, You have ' + str(attempt) + ' attempt remaining ')\n",
    "            \n",
    "           \n",
    "            \n",
    "        if attempt == 0:\n",
    "            print('Incorrect, The number is ' + str(guessnum))\n",
    "        \n",
    "\n",
    "      \n",
    "    rounds += 1\n",
    "    \n",
    "print('Your score is ' + str(score) + ' out of 50 ')"
   ]
  }
 ],
 "metadata": {
  "kernelspec": {
   "display_name": "Python 3 (ipykernel)",
   "language": "python",
   "name": "python3"
  },
  "language_info": {
   "codemirror_mode": {
    "name": "ipython",
    "version": 3
   },
   "file_extension": ".py",
   "mimetype": "text/x-python",
   "name": "python",
   "nbconvert_exporter": "python",
   "pygments_lexer": "ipython3",
   "version": "3.9.13"
  }
 },
 "nbformat": 4,
 "nbformat_minor": 5
}
